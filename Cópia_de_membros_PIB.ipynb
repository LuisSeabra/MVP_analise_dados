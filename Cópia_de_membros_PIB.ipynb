{
  "nbformat": 4,
  "nbformat_minor": 0,
  "metadata": {
    "colab": {
      "provenance": [],
      "authorship_tag": "ABX9TyOMwvxqUFiOTuUR/vdm1E+D",
      "include_colab_link": true
    },
    "kernelspec": {
      "name": "python3",
      "display_name": "Python 3"
    },
    "language_info": {
      "name": "python"
    }
  },
  "cells": [
    {
      "cell_type": "markdown",
      "metadata": {
        "id": "view-in-github",
        "colab_type": "text"
      },
      "source": [
        "<a href=\"https://colab.research.google.com/github/LuisSeabra/MVP_analise_dados/blob/main/C%C3%B3pia_de_membros_PIB.ipynb\" target=\"_parent\"><img src=\"https://colab.research.google.com/assets/colab-badge.svg\" alt=\"Open In Colab\"/></a>"
      ]
    },
    {
      "cell_type": "code",
      "execution_count": 165,
      "metadata": {
        "id": "hRzGwqhkanSS"
      },
      "outputs": [],
      "source": [
        "# Configuração para não exibir os warnings\n",
        "import warnings\n",
        "warnings.filterwarnings(\"ignore\")\n",
        "\n",
        "# Imports necessários\n",
        "import pandas as pd\n",
        "import numpy as np\n",
        "import matplotlib.pyplot as plt\n",
        "import seaborn as sns\n",
        "from sklearn.model_selection import train_test_split # para particionar em bases de treino e teste (holdout)\n",
        "from sklearn.model_selection import KFold # para preparar os folds da validação cruzada\n",
        "from sklearn.model_selection import cross_val_score # para executar a validação cruzada\n",
        "from sklearn.metrics import accuracy_score # para a exibição da acurácia do modelo\n",
        "from sklearn.neighbors import KNeighborsClassifier # algoritmo KNN\n",
        "from sklearn.tree import DecisionTreeClassifier # algoritmo Árvore de Classificação\n",
        "from sklearn.naive_bayes import GaussianNB # algoritmo Naive Bayes\n",
        "from sklearn.svm import SVC # algoritmo SVM"
      ]
    },
    {
      "cell_type": "code",
      "source": [
        "import chardet\n",
        "\n",
        "# Detectar a codificação do arquivo\n",
        "with open(\"membros_FINAL.csv\", 'rb') as f:\n",
        "    result = chardet.detect(f.read())\n",
        "    print(result)  # Mostra a codificação e a confiança\n"
      ],
      "metadata": {
        "colab": {
          "base_uri": "https://localhost:8080/"
        },
        "id": "yKXVhDXLfCfJ",
        "outputId": "a7dd86dc-fb72-4a74-f4ab-e56c6b48f75b"
      },
      "execution_count": 166,
      "outputs": [
        {
          "output_type": "stream",
          "name": "stdout",
          "text": [
            "{'encoding': 'ISO-8859-1', 'confidence': 0.7288837649571612, 'language': ''}\n"
          ]
        }
      ]
    },
    {
      "cell_type": "code",
      "source": [],
      "metadata": {
        "id": "En4i6fm_a26Z"
      },
      "execution_count": 85,
      "outputs": []
    },
    {
      "cell_type": "code",
      "source": [
        "import pandas as pd\n",
        "\n",
        "# Tentar carregar o arquivo, ignorando as linhas problemáticas\n",
        "membros_data = pd.read_csv(\"membros_FINAL.csv\", encoding='latin1', sep=',', on_bad_lines='skip')\n",
        "\n",
        "# Verificar as primeiras linhas do arquivo\n",
        "print(membros_data.head())\n"
      ],
      "metadata": {
        "colab": {
          "base_uri": "https://localhost:8080/"
        },
        "id": "Kdb1UVZ4Hqhw",
        "outputId": "3e3c0f02-45f6-4230-c978-52aebe14e7d6"
      },
      "execution_count": 167,
      "outputs": [
        {
          "output_type": "stream",
          "name": "stdout",
          "text": [
            "  Nome;NASC;IDADE;ESTADO_CIVIL;MODO_ENT;ENDERECO;EBD\n",
            "0  MIRELA TRINDADE DA COSTA;27/07/2013;11;;BATISM...\n",
            "1  GUILHERME DA SILVA SAO PEDRO;31/05/2013;11;SOL...\n",
            "2  LORENA PORTO DOS SANTOS;19/03/2013;11;SOLTEIR0...\n",
            "3  ZIEDEER ARTHUR DA SILVA CHING SAN;10/02/2013;1...\n",
            "4  JOAO PEDRO ROSA PIRES HENRIQUES;06/12/2011;12;...\n"
          ]
        }
      ]
    },
    {
      "cell_type": "code",
      "source": [
        "import pandas as pd\n",
        "import csv\n",
        "\n",
        "# Função para limpar o arquivo CSV\n",
        "def clean_csv(input_file, output_file):\n",
        "    with open(input_file, 'r', encoding='latin1') as infile, open(output_file, 'w', newline='', encoding='utf-8') as outfile:\n",
        "        reader = csv.reader(infile)\n",
        "        writer = csv.writer(outfile)\n",
        "\n",
        "        # Identifica a quantidade correta de colunas pela primeira linha (cabeçalho)\n",
        "        headers = next(reader)\n",
        "        writer.writerow(headers)\n",
        "        num_columns = len(headers)\n",
        "\n",
        "        # Lê e limpa as demais linhas\n",
        "        for row in reader:\n",
        "            if len(row) == num_columns:  # Mantém apenas linhas com o número correto de colunas\n",
        "                writer.writerow(row)\n",
        "            else:\n",
        "                # Pode implementar lógica adicional para tratar as linhas problemáticas\n",
        "                print(f\"Linha problemática ignorada: {row}\")\n",
        "\n",
        "# Caminho do arquivo de entrada e de saída\n",
        "input_file = 'membros_FINAL.csv'  # Nome do arquivo CSV original\n",
        "output_file = 'membros_FINAL_cleaned.csv'  # Nome do arquivo CSV limpo\n",
        "\n",
        "# Limpar o arquivo\n",
        "clean_csv(input_file, output_file)\n",
        "\n",
        "# Carregar o arquivo limpo no pandas\n",
        "membros_data_cleaned = pd.read_csv(output_file, encoding='utf-8')\n",
        "\n",
        "# Verificar as primeiras linhas do arquivo limpo\n",
        "print(membros_data_cleaned.head())\n"
      ],
      "metadata": {
        "colab": {
          "base_uri": "https://localhost:8080/"
        },
        "id": "RrMLOcRiJRuJ",
        "outputId": "16a095bd-17c4-4c58-d2d6-6540c9cf66e7"
      },
      "execution_count": 168,
      "outputs": [
        {
          "output_type": "stream",
          "name": "stdout",
          "text": [
            "  Nome;NASC;IDADE;ESTADO_CIVIL;MODO_ENT;ENDERECO;EBD\n",
            "0  MIRELA TRINDADE DA COSTA;27/07/2013;11;;BATISM...\n",
            "1  GUILHERME DA SILVA SAO PEDRO;31/05/2013;11;SOL...\n",
            "2  LORENA PORTO DOS SANTOS;19/03/2013;11;SOLTEIR0...\n",
            "3  ZIEDEER ARTHUR DA SILVA CHING SAN;10/02/2013;1...\n",
            "4  JOAO PEDRO ROSA PIRES HENRIQUES;06/12/2011;12;...\n"
          ]
        }
      ]
    },
    {
      "cell_type": "code",
      "source": [
        "import pandas as pd\n",
        "\n",
        "# Suponha que o caminho seja 'C:/caminho/para/membros_FINAL_cleaned.csv'\n",
        "df_membros = pd.read_csv('/content/membros_FINAL_cleaned.csv')\n"
      ],
      "metadata": {
        "id": "fdyF09eoL01E"
      },
      "execution_count": 169,
      "outputs": []
    },
    {
      "cell_type": "code",
      "source": [
        "import pandas as pd\n",
        "\n",
        "# Carregar o arquivo CSV em um DataFrame\n",
        "df_membros = pd.read_csv('membros_FINAL_cleaned.csv')\n",
        "\n",
        "# Exibir as primeiras linhas do DataFrame\n",
        "print(df_membros.head())\n"
      ],
      "metadata": {
        "colab": {
          "base_uri": "https://localhost:8080/"
        },
        "id": "5B90-tVLMJ5G",
        "outputId": "4a740a63-fbfa-418b-bd59-e6cb74a13576"
      },
      "execution_count": 170,
      "outputs": [
        {
          "output_type": "stream",
          "name": "stdout",
          "text": [
            "  Nome;NASC;IDADE;ESTADO_CIVIL;MODO_ENT;ENDERECO;EBD\n",
            "0  MIRELA TRINDADE DA COSTA;27/07/2013;11;;BATISM...\n",
            "1  GUILHERME DA SILVA SAO PEDRO;31/05/2013;11;SOL...\n",
            "2  LORENA PORTO DOS SANTOS;19/03/2013;11;SOLTEIR0...\n",
            "3  ZIEDEER ARTHUR DA SILVA CHING SAN;10/02/2013;1...\n",
            "4  JOAO PEDRO ROSA PIRES HENRIQUES;06/12/2011;12;...\n"
          ]
        }
      ]
    },
    {
      "cell_type": "code",
      "source": [
        "# Exibir as primeiras 5 linhas do DataFrame\n",
        "print(df_membros.head())\n"
      ],
      "metadata": {
        "colab": {
          "base_uri": "https://localhost:8080/"
        },
        "id": "G7jbkMbBMgZY",
        "outputId": "97d8e1db-e627-4980-d5d6-044a96bd68ff"
      },
      "execution_count": 171,
      "outputs": [
        {
          "output_type": "stream",
          "name": "stdout",
          "text": [
            "  Nome;NASC;IDADE;ESTADO_CIVIL;MODO_ENT;ENDERECO;EBD\n",
            "0  MIRELA TRINDADE DA COSTA;27/07/2013;11;;BATISM...\n",
            "1  GUILHERME DA SILVA SAO PEDRO;31/05/2013;11;SOL...\n",
            "2  LORENA PORTO DOS SANTOS;19/03/2013;11;SOLTEIR0...\n",
            "3  ZIEDEER ARTHUR DA SILVA CHING SAN;10/02/2013;1...\n",
            "4  JOAO PEDRO ROSA PIRES HENRIQUES;06/12/2011;12;...\n"
          ]
        }
      ]
    },
    {
      "cell_type": "code",
      "source": [
        "print(df_membros.columns)\n"
      ],
      "metadata": {
        "colab": {
          "base_uri": "https://localhost:8080/"
        },
        "id": "YTW8boWnWCgR",
        "outputId": "7632f1e7-90d1-4c92-be4c-ea6041d39e6a"
      },
      "execution_count": 172,
      "outputs": [
        {
          "output_type": "stream",
          "name": "stdout",
          "text": [
            "Index(['Nome;NASC;IDADE;ESTADO_CIVIL;MODO_ENT;ENDERECO;EBD'], dtype='object')\n"
          ]
        }
      ]
    },
    {
      "cell_type": "code",
      "source": [
        "# Remover espaços em branco dos nomes das colunas\n",
        "df_membros.columns = df_membros.columns.str.strip()\n",
        "\n",
        "# Tentar novamente com o nome corrigido\n",
        "print(df_membros.columns)\n"
      ],
      "metadata": {
        "colab": {
          "base_uri": "https://localhost:8080/"
        },
        "id": "sFl4axYTWNY4",
        "outputId": "318323f3-fe26-436b-975e-42e1e114b632"
      },
      "execution_count": 173,
      "outputs": [
        {
          "output_type": "stream",
          "name": "stdout",
          "text": [
            "Index(['Nome;NASC;IDADE;ESTADO_CIVIL;MODO_ENT;ENDERECO;EBD'], dtype='object')\n"
          ]
        }
      ]
    },
    {
      "cell_type": "code",
      "source": [
        "# Remover espaços em branco ou caracteres extras dos nomes das colunas\n",
        "df_membros.columns = df_membros.columns.str.strip()\n",
        "\n",
        "# Listar colunas novamente\n",
        "print(df_membros.columns)\n"
      ],
      "metadata": {
        "colab": {
          "base_uri": "https://localhost:8080/"
        },
        "id": "z14yvCysXHIE",
        "outputId": "86b6557c-d614-4b1a-af61-99912ba8e135"
      },
      "execution_count": 174,
      "outputs": [
        {
          "output_type": "stream",
          "name": "stdout",
          "text": [
            "Index(['Nome;NASC;IDADE;ESTADO_CIVIL;MODO_ENT;ENDERECO;EBD'], dtype='object')\n"
          ]
        }
      ]
    },
    {
      "cell_type": "code",
      "source": [
        "# Listar todas as colunas do DataFrame\n",
        "print(df_membros.columns)\n"
      ],
      "metadata": {
        "colab": {
          "base_uri": "https://localhost:8080/"
        },
        "id": "-yEc6HT4kI_Q",
        "outputId": "ad1b9883-3faa-4be0-a02c-b4fe222bd746"
      },
      "execution_count": 175,
      "outputs": [
        {
          "output_type": "stream",
          "name": "stdout",
          "text": [
            "Index(['Nome;NASC;IDADE;ESTADO_CIVIL;MODO_ENT;ENDERECO;EBD'], dtype='object')\n"
          ]
        }
      ]
    },
    {
      "cell_type": "code",
      "source": [
        "# Remover espaços em branco dos nomes das colunas\n",
        "df_membros.columns = df_membros.columns.str.strip()\n"
      ],
      "metadata": {
        "id": "YQoTqMwWk5Us"
      },
      "execution_count": 176,
      "outputs": []
    },
    {
      "cell_type": "code",
      "source": [
        "# Verificar se a coluna MODO_ENT realmente existe\n",
        "if 'MODO_ENT' in df_membros.columns:\n",
        "    print(\"A coluna MODO_ENT existe.\")\n",
        "    print(df_membros['MODO_ENT'].head())  # Exibir as primeiras linhas da coluna\n",
        "else:\n",
        "    print(\"A coluna MODO_ENT não existe.\")\n"
      ],
      "metadata": {
        "colab": {
          "base_uri": "https://localhost:8080/"
        },
        "id": "qVM2kS69lY55",
        "outputId": "6c5f435d-b131-4b9c-c795-8ffe7958cc10"
      },
      "execution_count": 177,
      "outputs": [
        {
          "output_type": "stream",
          "name": "stdout",
          "text": [
            "A coluna MODO_ENT não existe.\n"
          ]
        }
      ]
    },
    {
      "cell_type": "code",
      "source": [
        "# Listar todas as colunas do DataFrame\n",
        "print(df_membros.columns)\n"
      ],
      "metadata": {
        "colab": {
          "base_uri": "https://localhost:8080/"
        },
        "id": "hIcwbSVdluum",
        "outputId": "2a20e480-c80a-416d-c314-432d9b702f98"
      },
      "execution_count": 178,
      "outputs": [
        {
          "output_type": "stream",
          "name": "stdout",
          "text": [
            "Index(['Nome;NASC;IDADE;ESTADO_CIVIL;MODO_ENT;ENDERECO;EBD'], dtype='object')\n"
          ]
        }
      ]
    },
    {
      "cell_type": "code",
      "source": [
        "import pandas as pd\n",
        "\n",
        "# Ler o arquivo novamente, especificando o delimitador\n",
        "df_membros = pd.read_csv('membros_FINAL_cleaned.csv', sep=';')\n",
        "\n",
        "# Verificar as colunas novamente\n",
        "print(df_membros.columns)\n"
      ],
      "metadata": {
        "colab": {
          "base_uri": "https://localhost:8080/"
        },
        "id": "_P8SVlN2mZjB",
        "outputId": "3e2564ee-ba7a-47d0-8050-256b60501df7"
      },
      "execution_count": 179,
      "outputs": [
        {
          "output_type": "stream",
          "name": "stdout",
          "text": [
            "Index(['Nome', 'NASC', 'IDADE', 'ESTADO_CIVIL', 'MODO_ENT', 'ENDERECO', 'EBD'], dtype='object')\n"
          ]
        }
      ]
    },
    {
      "cell_type": "code",
      "source": [
        "# Exibir as primeiras 5 linhas da coluna MODO_ENT\n",
        "print(df_membros['MODO_ENT'].head())\n"
      ],
      "metadata": {
        "colab": {
          "base_uri": "https://localhost:8080/"
        },
        "id": "NAb3W7F_mkQZ",
        "outputId": "89098781-14fa-4e58-c470-e4ed61ad7904"
      },
      "execution_count": 180,
      "outputs": [
        {
          "output_type": "stream",
          "name": "stdout",
          "text": [
            "0          BATISMO\n",
            "1        ACLAMAÇAO\n",
            "2    RECONCILIAÇAO\n",
            "3    RECONCILIAÇAO\n",
            "4              NaN\n",
            "Name: MODO_ENT, dtype: object\n"
          ]
        }
      ]
    },
    {
      "cell_type": "code",
      "source": [
        "# Listar todas as colunas do DataFrame\n",
        "print(df_membros.columns)\n"
      ],
      "metadata": {
        "colab": {
          "base_uri": "https://localhost:8080/"
        },
        "id": "Ayxdm6FDmznf",
        "outputId": "35fc19a4-45d7-4cab-c666-dad53c9c1d1f"
      },
      "execution_count": 181,
      "outputs": [
        {
          "output_type": "stream",
          "name": "stdout",
          "text": [
            "Index(['Nome', 'NASC', 'IDADE', 'ESTADO_CIVIL', 'MODO_ENT', 'ENDERECO', 'EBD'], dtype='object')\n"
          ]
        }
      ]
    },
    {
      "cell_type": "code",
      "source": [
        "# Contar a frequência de cada valor na coluna 'MODO_ENT'\n",
        "modo_ent_contagem = df_membros['MODO_ENT'].value_counts()\n"
      ],
      "metadata": {
        "id": "P5SZIrDwnECp"
      },
      "execution_count": 182,
      "outputs": []
    },
    {
      "cell_type": "code",
      "source": [
        "print(df_membros.columns)\n"
      ],
      "metadata": {
        "colab": {
          "base_uri": "https://localhost:8080/"
        },
        "id": "ZgTY-nCpTs9M",
        "outputId": "384efe60-7e6f-4dad-b9bc-29b7dba5edc3"
      },
      "execution_count": 183,
      "outputs": [
        {
          "output_type": "stream",
          "name": "stdout",
          "text": [
            "Index(['Nome', 'NASC', 'IDADE', 'ESTADO_CIVIL', 'MODO_ENT', 'ENDERECO', 'EBD'], dtype='object')\n"
          ]
        }
      ]
    },
    {
      "cell_type": "code",
      "source": [
        "df_membros.columns = df_membros.columns.str.strip()\n"
      ],
      "metadata": {
        "id": "cf6eTXS5Txs_"
      },
      "execution_count": 184,
      "outputs": []
    },
    {
      "cell_type": "code",
      "source": [
        "# Listar os nomes das colunas para garantir que 'MODO_ENT' está presente\n",
        "print(df_membros.columns)\n"
      ],
      "metadata": {
        "colab": {
          "base_uri": "https://localhost:8080/"
        },
        "id": "2-l5iVQ2VMnx",
        "outputId": "c132aa0d-0ca4-472d-c3ae-796072bfc71a"
      },
      "execution_count": 185,
      "outputs": [
        {
          "output_type": "stream",
          "name": "stdout",
          "text": [
            "Index(['Nome', 'NASC', 'IDADE', 'ESTADO_CIVIL', 'MODO_ENT', 'ENDERECO', 'EBD'], dtype='object')\n"
          ]
        }
      ]
    },
    {
      "cell_type": "code",
      "source": [
        "# Tentar carregar o arquivo com uma codificação diferente\n",
        "df_membros = pd.read_csv('membros_FINAL_cleaned.csv', encoding='utf-8')\n"
      ],
      "metadata": {
        "id": "MOfTnvgsVRKR"
      },
      "execution_count": 186,
      "outputs": []
    },
    {
      "cell_type": "code",
      "source": [
        "# Tentar carregar o arquivo com uma codificação diferente\n",
        "df_membros = pd.read_csv('membros_FINAL_cleaned.csv', encoding='utf-8')\n"
      ],
      "metadata": {
        "id": "y66P71oPVY9e"
      },
      "execution_count": 187,
      "outputs": []
    },
    {
      "cell_type": "code",
      "source": [
        "# Especificar o separador como ponto e vírgula (;) se necessário\n",
        "df_membros = pd.read_csv('membros_FINAL_cleaned.csv', sep=',')\n"
      ],
      "metadata": {
        "id": "M0kUTQ9gVicP"
      },
      "execution_count": 188,
      "outputs": []
    },
    {
      "cell_type": "code",
      "source": [
        "# Limpar espaços extras nos nomes das colunas\n",
        "df_membros.columns = df_membros.columns.str.strip()\n"
      ],
      "metadata": {
        "id": "49wFuElvVvuc"
      },
      "execution_count": 189,
      "outputs": []
    },
    {
      "cell_type": "code",
      "source": [
        "import pandas as pd\n",
        "import matplotlib.pyplot as plt"
      ],
      "metadata": {
        "id": "BOgpo-YDWwhd"
      },
      "execution_count": 190,
      "outputs": []
    },
    {
      "cell_type": "code",
      "source": [
        "# Carregar o arquivo CSV\n",
        "df_membros = pd.read_csv('membros_FINAL_cleaned.csv', encoding='utf-8')"
      ],
      "metadata": {
        "id": "rnCIvpWnXCzt"
      },
      "execution_count": 191,
      "outputs": []
    },
    {
      "cell_type": "code",
      "source": [
        "# Verificar os nomes das colunas\n",
        "print(df_membros.columns)"
      ],
      "metadata": {
        "colab": {
          "base_uri": "https://localhost:8080/"
        },
        "id": "9ca0x7mcXcff",
        "outputId": "f552ead9-9aeb-41fe-b655-e66f52197f3e"
      },
      "execution_count": 192,
      "outputs": [
        {
          "output_type": "stream",
          "name": "stdout",
          "text": [
            "Index(['Nome;NASC;IDADE;ESTADO_CIVIL;MODO_ENT;ENDERECO;EBD'], dtype='object')\n"
          ]
        }
      ]
    },
    {
      "cell_type": "code",
      "source": [
        "# Limpar espaços extras nos nomes das colunas, se necessário\n",
        "df_membros.columns = df_membros.columns.str.strip()"
      ],
      "metadata": {
        "id": "iN_sFeLsXha-"
      },
      "execution_count": 193,
      "outputs": []
    },
    {
      "cell_type": "code",
      "source": [
        "df = pd.read_csv('/content/membros_FINAL_cleaned.csv')\n"
      ],
      "metadata": {
        "id": "AYgJ38gzZHcT"
      },
      "execution_count": 194,
      "outputs": []
    },
    {
      "cell_type": "code",
      "source": [
        "import pandas as pd\n",
        "\n",
        "# Carregando o DataFrame com o delimitador correto\n",
        "df = pd.read_csv('/content/membros_FINAL_cleaned.csv', delimiter=';')\n",
        "\n",
        "# Verificando as colunas\n",
        "print(df.columns)\n"
      ],
      "metadata": {
        "colab": {
          "base_uri": "https://localhost:8080/"
        },
        "id": "z9t1HTyuaPd4",
        "outputId": "f5edf2ad-36cf-4311-b918-5298e880103d"
      },
      "execution_count": 196,
      "outputs": [
        {
          "output_type": "stream",
          "name": "stdout",
          "text": [
            "Index(['Nome', 'NASC', 'IDADE', 'ESTADO_CIVIL', 'MODO_ENT', 'ENDERECO', 'EBD'], dtype='object')\n"
          ]
        }
      ]
    },
    {
      "cell_type": "code",
      "source": [
        "print(df.columns)\n"
      ],
      "metadata": {
        "colab": {
          "base_uri": "https://localhost:8080/"
        },
        "id": "mJB_tLFTaoey",
        "outputId": "04fd99db-8fd2-4884-fe5d-fd20db1ed8ff"
      },
      "execution_count": 197,
      "outputs": [
        {
          "output_type": "stream",
          "name": "stdout",
          "text": [
            "Index(['Nome', 'NASC', 'IDADE', 'ESTADO_CIVIL', 'MODO_ENT', 'ENDERECO', 'EBD'], dtype='object')\n"
          ]
        }
      ]
    },
    {
      "cell_type": "code",
      "source": [
        "# Remover espaços em branco nos nomes das colunas\n",
        "df.columns = df.columns.str.strip()\n"
      ],
      "metadata": {
        "id": "uyXiqQOfatQi"
      },
      "execution_count": 198,
      "outputs": []
    },
    {
      "cell_type": "code",
      "source": [
        "import matplotlib.pyplot as plt\n",
        "\n",
        "# Verificando se a coluna IDADE agora existe\n",
        "print(df.columns)\n",
        "\n",
        "# Plotando o gráfico de barras\n",
        "plt.figure(figsize=(10, 6))\n",
        "df['IDADE'].value_counts().sort_index().plot(kind='bar', color='skyblue')\n",
        "plt.title('Distribuição das Idades')\n",
        "plt.xlabel('Idade')\n",
        "plt.ylabel('Frequência')\n",
        "plt.xticks(rotation=45)  # Rotaciona os rótulos do eixo x\n",
        "plt.grid(axis='y')\n",
        "\n",
        "plt.show()\n"
      ],
      "metadata": {
        "colab": {
          "base_uri": "https://localhost:8080/",
          "height": 600
        },
        "id": "c02tRDe-a2_Z",
        "outputId": "a8339a81-771d-4cf1-88c7-be1857d20e3b"
      },
      "execution_count": 199,
      "outputs": [
        {
          "output_type": "stream",
          "name": "stdout",
          "text": [
            "Index(['Nome', 'NASC', 'IDADE', 'ESTADO_CIVIL', 'MODO_ENT', 'ENDERECO', 'EBD'], dtype='object')\n"
          ]
        },
        {
          "output_type": "display_data",
          "data": {
            "text/plain": [
              "<Figure size 1000x600 with 1 Axes>"
            ],
            "image/png": "[encoded data removed]"
          },
          "metadata": {}
        }
      ]
    },
    {
      "cell_type": "code",
      "source": [
        "# Contar a frequência das idades\n",
        "idade_counts = df['IDADE'].value_counts().sort_index()\n",
        "\n",
        "# Plotando o gráfico de linhas\n",
        "plt.figure(figsize=(10, 6))\n",
        "plt.plot(idade_counts.index, idade_counts.values, marker='o', color='skyblue')\n",
        "plt.title('Distribuição das Idades')\n",
        "plt.xlabel('Idade')\n",
        "plt.ylabel('Frequência')\n",
        "plt.xticks(rotation=45)  # Rotaciona os rótulos do eixo x\n",
        "plt.grid()\n",
        "\n",
        "plt.show()\n"
      ],
      "metadata": {
        "colab": {
          "base_uri": "https://localhost:8080/",
          "height": 579
        },
        "id": "u7tBbCbVbQhK",
        "outputId": "e57b561e-04c7-4664-eaaf-9a7efb11f394"
      },
      "execution_count": 200,
      "outputs": [
        {
          "output_type": "display_data",
          "data": {
            "text/plain": [
              "<Figure size 1000x600 with 1 Axes>"
            ],
            "image/png": "[encoded data removed]"
          },
          "metadata": {}
        }
      ]
    },
    {
      "cell_type": "code",
      "source": [
        "import pandas as pd\n",
        "import matplotlib.pyplot as plt\n",
        "\n",
        "# Carregando o DataFrame com o delimitador correto\n",
        "df = pd.read_csv('/content/membros_FINAL_cleaned.csv', delimiter=';')\n",
        "\n",
        "# Remover espaços em branco nos nomes das colunas\n",
        "df.columns = df.columns.str.strip()\n",
        "\n",
        "# Plotando o histograma\n",
        "plt.figure(figsize=(10, 6))\n",
        "plt.hist(df['IDADE'], bins=10, color='skyblue', edgecolor='black')\n",
        "plt.title('Histograma da Idade')\n",
        "plt.xlabel('Idade')\n",
        "plt.ylabel('Frequência')\n",
        "plt.grid(axis='y')\n",
        "\n",
        "plt.show()\n"
      ],
      "metadata": {
        "colab": {
          "base_uri": "https://localhost:8080/",
          "height": 564
        },
        "id": "sdsnKZtKbvRA",
        "outputId": "0ab8572f-1f93-4c20-b9e4-2c2f2fa245ea"
      },
      "execution_count": 201,
      "outputs": [
        {
          "output_type": "display_data",
          "data": {
            "text/plain": [
              "<Figure size 1000x600 with 1 Axes>"
            ],
            "image/png": "[encoded data removed]"
          },
          "metadata": {}
        }
      ]
    },
    {
      "cell_type": "code",
      "source": [
        "import pandas as pd\n",
        "import matplotlib.pyplot as plt\n",
        "\n",
        "# Carregando o DataFrame com o delimitador correto\n",
        "df = pd.read_csv('/content/membros_FINAL_cleaned.csv', delimiter=';')\n",
        "\n",
        "# Remover espaços em branco nos nomes das colunas\n",
        "df.columns = df.columns.str.strip()\n",
        "\n",
        "# Plotando o histograma\n",
        "plt.figure(figsize=(10, 6))\n",
        "counts, bins, patches = plt.hist(df['IDADE'], bins=10, color='skyblue', edgecolor='black')\n",
        "\n",
        "# Adicionando rótulos acima das barras\n",
        "for count, x in zip(counts, bins):\n",
        "    plt.text(x, count, str(int(count)), ha='center', va='bottom')\n",
        "\n",
        "plt.title('Histograma da Idade')\n",
        "plt.xlabel('Idade')\n",
        "plt.ylabel('Frequência')\n",
        "plt.grid(axis='y')\n",
        "\n",
        "plt.show()\n"
      ],
      "metadata": {
        "colab": {
          "base_uri": "https://localhost:8080/",
          "height": 564
        },
        "id": "P-olXDDKcG3e",
        "outputId": "97103250-e4b9-4b7c-95ab-eca743ec7492"
      },
      "execution_count": 202,
      "outputs": [
        {
          "output_type": "display_data",
          "data": {
            "text/plain": [
              "<Figure size 1000x600 with 1 Axes>"
            ],
            "image/png": "[encoded data removed]"
          },
          "metadata": {}
        }
      ]
    },
    {
      "cell_type": "code",
      "source": [
        "import pandas as pd\n",
        "import seaborn as sns\n",
        "import matplotlib.pyplot as plt\n",
        "\n",
        "# Carregar o arquivo CSV com o delimitador correto\n",
        "df_membros = pd.read_csv('membros_FINAL_cleaned.csv', delimiter=';')\n",
        "\n",
        "# Verificar as colunas para garantir que foram carregadas corretamente\n",
        "print(df_membros.columns)\n",
        "\n",
        "# Plotar o boxplot para a coluna IDADE\n",
        "plt.figure(figsize=(10, 6))\n",
        "sns.boxplot(data=df_membros, y='IDADE')\n",
        "plt.title('Box Plot da Coluna IDADE')\n",
        "plt.ylabel('Idade')\n",
        "\n",
        "# Exibir o gráfico\n",
        "plt.show()\n"
      ],
      "metadata": {
        "colab": {
          "base_uri": "https://localhost:8080/",
          "height": 544
        },
        "id": "AsbixePQZN5u",
        "outputId": "55778c35-9696-44df-daac-15e556a5738c"
      },
      "execution_count": 204,
      "outputs": [
        {
          "output_type": "stream",
          "name": "stdout",
          "text": [
            "Index(['Nome', 'NASC', 'IDADE', 'ESTADO_CIVIL', 'MODO_ENT', 'ENDERECO', 'EBD'], dtype='object')\n"
          ]
        },
        {
          "output_type": "display_data",
          "data": {
            "text/plain": [
              "<Figure size 1000x600 with 1 Axes>"
            ],
            "image/png": "[encoded data removed]"
          },
          "metadata": {}
        }
      ]
    },
    {
      "cell_type": "code",
      "source": [
        "import pandas as pd\n",
        "\n",
        "# Carregar o arquivo CSV com o delimitador correto\n",
        "df_membros = pd.read_csv('membros_FINAL_cleaned.csv', delimiter=';')\n",
        "\n",
        "# Gerar um resumo estatístico para a coluna IDADE\n",
        "resumo_estatistico = df_membros['IDADE'].describe()\n",
        "\n",
        "# Exibir o resumo estatístico\n",
        "print(resumo_estatistico)\n"
      ],
      "metadata": {
        "colab": {
          "base_uri": "https://localhost:8080/"
        },
        "id": "XXjSOGPLZkUM",
        "outputId": "d45c61bc-eea3-4bce-c692-2730d3576e1d"
      },
      "execution_count": 205,
      "outputs": [
        {
          "output_type": "stream",
          "name": "stdout",
          "text": [
            "count    1024.000000\n",
            "mean       44.500000\n",
            "std        17.230653\n",
            "min        11.000000\n",
            "25%        31.000000\n",
            "50%        45.000000\n",
            "75%        57.000000\n",
            "max        97.000000\n",
            "Name: IDADE, dtype: float64\n"
          ]
        }
      ]
    },
    {
      "cell_type": "code",
      "source": [
        "import pandas as pd\n",
        "\n",
        "# Carregar o arquivo CSV com o delimitador correto\n",
        "df_membros = pd.read_csv('membros_FINAL_cleaned.csv', delimiter=';')\n",
        "\n",
        "# Calcular a frequência simples (absoluta) da coluna IDADE\n",
        "frequencia_simples = df_membros['IDADE'].value_counts().sort_index()\n",
        "\n",
        "# Calcular a frequência relativa (percentual) da coluna IDADE\n",
        "frequencia_relativa = df_membros['IDADE'].value_counts(normalize=True).sort_index() * 100\n",
        "\n",
        "# Criar um DataFrame com a distribuição de frequências\n",
        "distribuicao_frequencias = pd.DataFrame({\n",
        "    'Frequência Simples': frequencia_simples,\n",
        "    'Frequência Relativa (%)': frequencia_relativa\n",
        "})\n",
        "\n",
        "# Exibir a distribuição de frequências\n",
        "print(distribuicao_frequencias)\n"
      ],
      "metadata": {
        "colab": {
          "base_uri": "https://localhost:8080/"
        },
        "id": "6fSBA0U3n2dY",
        "outputId": "65a782a1-e323-4b12-c349-b77236d48f35"
      },
      "execution_count": 206,
      "outputs": [
        {
          "output_type": "stream",
          "name": "stdout",
          "text": [
            "       Frequência Simples  Frequência Relativa (%)\n",
            "IDADE                                             \n",
            "11.0                    4                 0.390625\n",
            "12.0                    6                 0.585938\n",
            "13.0                    9                 0.878906\n",
            "14.0                   13                 1.269531\n",
            "15.0                    8                 0.781250\n",
            "...                   ...                      ...\n",
            "83.0                    1                 0.097656\n",
            "84.0                    1                 0.097656\n",
            "85.0                    1                 0.097656\n",
            "88.0                    1                 0.097656\n",
            "97.0                    1                 0.097656\n",
            "\n",
            "[77 rows x 2 columns]\n"
          ]
        }
      ]
    },
    {
      "cell_type": "code",
      "source": [
        "import pandas as pd\n",
        "import numpy as np\n",
        "\n",
        "# Supondo que já temos o DataFrame df_membros carregado com a coluna IDADE\n",
        "\n",
        "# Definir os intervalos de 10 em 10 anos\n",
        "bins = np.arange(df_membros['IDADE'].min(), df_membros['IDADE'].max() + 10, 10)\n",
        "\n",
        "# Criar a distribuição de frequências\n",
        "freq_simples = pd.cut(df_membros['IDADE'], bins=bins).value_counts().sort_index()\n",
        "\n",
        "# Criar a distribuição de frequências relativas\n",
        "freq_relativa = freq_simples / len(df_membros) * 100\n",
        "\n",
        "# Criar um DataFrame para visualizar as frequências\n",
        "tabela_frequencia = pd.DataFrame({\n",
        "    'Intervalo': freq_simples.index,\n",
        "    'Frequência Simples': freq_simples.values,\n",
        "    'Frequência Relativa (%)': freq_relativa.values\n",
        "})\n",
        "\n",
        "# Exibir a tabela\n",
        "print(tabela_frequencia)\n"
      ],
      "metadata": {
        "colab": {
          "base_uri": "https://localhost:8080/"
        },
        "id": "HnfJFst7ojxK",
        "outputId": "3525b01b-c522-40f5-ada9-fd3e1fea1aa4"
      },
      "execution_count": 207,
      "outputs": [
        {
          "output_type": "stream",
          "name": "stdout",
          "text": [
            "       Intervalo  Frequência Simples  Frequência Relativa (%)\n",
            "0   (11.0, 21.0]                 119                 8.686131\n",
            "1   (21.0, 31.0]                 145                10.583942\n",
            "2   (31.0, 41.0]                 159                11.605839\n",
            "3   (41.0, 51.0]                 229                16.715328\n",
            "4   (51.0, 61.0]                 183                13.357664\n",
            "5   (61.0, 71.0]                 125                 9.124088\n",
            "6   (71.0, 81.0]                  54                 3.941606\n",
            "7   (81.0, 91.0]                   5                 0.364964\n",
            "8  (91.0, 101.0]                   1                 0.072993\n"
          ]
        }
      ]
    }
  ]
}