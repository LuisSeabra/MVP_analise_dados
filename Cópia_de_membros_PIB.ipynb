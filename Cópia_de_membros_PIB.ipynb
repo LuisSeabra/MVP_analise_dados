{
  "nbformat": 4,
  "nbformat_minor": 0,
  "metadata": {
    "colab": {
      "provenance": [],
      "authorship_tag": "ABX9TyPWF1msKJmeDA1Zo9Fg25WA",
      "include_colab_link": true
    },
    "kernelspec": {
      "name": "python3",
      "display_name": "Python 3"
    },
    "language_info": {
      "name": "python"
    }
  },
  "cells": [
    {
      "cell_type": "markdown",
      "metadata": {
        "id": "view-in-github",
        "colab_type": "text"
      },
      "source": [
        "<a href=\"https://colab.research.google.com/github/LuisSeabra/MVP_analise_dados/blob/main/C%C3%B3pia_de_membros_PIB.ipynb\" target=\"_parent\"><img src=\"https://colab.research.google.com/assets/colab-badge.svg\" alt=\"Open In Colab\"/></a>"
      ]
    },
    {
      "cell_type": "code",
      "execution_count": 3,
      "metadata": {
        "id": "hRzGwqhkanSS"
      },
      "outputs": [],
      "source": [
        "# Configuração para não exibir os warnings\n",
        "import warnings\n",
        "warnings.filterwarnings(\"ignore\")\n",
        "\n",
        "# Imports necessários\n",
        "import pandas as pd\n",
        "import numpy as np\n",
        "import matplotlib.pyplot as plt\n",
        "import seaborn as sns\n",
        "from sklearn.model_selection import train_test_split # para particionar em bases de treino e teste (holdout)\n",
        "from sklearn.model_selection import KFold # para preparar os folds da validação cruzada\n",
        "from sklearn.model_selection import cross_val_score # para executar a validação cruzada\n",
        "from sklearn.metrics import accuracy_score # para a exibição da acurácia do modelo\n",
        "from sklearn.neighbors import KNeighborsClassifier # algoritmo KNN\n",
        "from sklearn.tree import DecisionTreeClassifier # algoritmo Árvore de Classificação\n",
        "from sklearn.naive_bayes import GaussianNB # algoritmo Naive Bayes\n",
        "from sklearn.svm import SVC # algoritmo SVM"
      ]
    },
    {
      "cell_type": "code",
      "source": [
        "import chardet\n",
        "\n",
        "# Detectar a codificação do arquivo\n",
        "with open(\"membros_FINAL.csv\", 'rb') as f:\n",
        "    result = chardet.detect(f.read())\n",
        "    print(result)  # Mostra a codificação e a confiança\n"
      ],
      "metadata": {
        "colab": {
          "base_uri": "https://localhost:8080/"
        },
        "id": "yKXVhDXLfCfJ",
        "outputId": "8f705e09-afe6-46b7-a0ea-3ce46d25fe50"
      },
      "execution_count": 5,
      "outputs": [
        {
          "output_type": "stream",
          "name": "stdout",
          "text": [
            "{'encoding': 'ISO-8859-1', 'confidence': 0.7288868000645473, 'language': ''}\n"
          ]
        }
      ]
    },
    {
      "cell_type": "code",
      "source": [],
      "metadata": {
        "id": "En4i6fm_a26Z"
      },
      "execution_count": null,
      "outputs": []
    },
    {
      "cell_type": "code",
      "source": [
        "import pandas as pd\n",
        "\n",
        "# Tentar carregar o arquivo, ignorando as linhas problemáticas\n",
        "membros_data = pd.read_csv(\"membros_FINAL.csv\", encoding='latin1', sep=',', on_bad_lines='skip')\n",
        "\n",
        "# Verificar as primeiras linhas do arquivo\n",
        "print(membros_data.head())\n"
      ],
      "metadata": {
        "colab": {
          "base_uri": "https://localhost:8080/"
        },
        "id": "Kdb1UVZ4Hqhw",
        "outputId": "3ed8568b-ef32-4586-cf75-cd4714bc8576"
      },
      "execution_count": 6,
      "outputs": [
        {
          "output_type": "stream",
          "name": "stdout",
          "text": [
            "  Nome;NASC;IDADE;ESTADO_CIVIL;MODO_ENT;ENDERECO;EBD\n",
            "0  ANDREA ALBUQUERQUE DE MOURA PINTO;13/11/1970NA...\n",
            "1  ARLETE DE MEDEIROS SILVA;11/05/1946;78;VIUVO;A...\n",
            "2  BENY LADEIRA TEIXEIRA;14/12/1943;80;VIUVO;ACLA...\n",
            "3  EDVALDO BELO PEREIRA;07/09/1960;64;CASADO;ACLA...\n",
            "4  ELIANE MARIA DOS REIS PACHECO;11/12/1962;61;CA...\n"
          ]
        }
      ]
    },
    {
      "cell_type": "code",
      "source": [],
      "metadata": {
        "id": "-r2Ra1KBJIf3"
      },
      "execution_count": null,
      "outputs": []
    },
    {
      "cell_type": "code",
      "source": [
        "import pandas as pd\n",
        "import csv\n",
        "\n",
        "# Função para limpar o arquivo CSV\n",
        "def clean_csv(input_file, output_file):\n",
        "    with open(input_file, 'r', encoding='latin1') as infile, open(output_file, 'w', newline='', encoding='utf-8') as outfile:\n",
        "        reader = csv.reader(infile)\n",
        "        writer = csv.writer(outfile)\n",
        "\n",
        "        # Identifica a quantidade correta de colunas pela primeira linha (cabeçalho)\n",
        "        headers = next(reader)\n",
        "        writer.writerow(headers)\n",
        "        num_columns = len(headers)\n",
        "\n",
        "        # Lê e limpa as demais linhas\n",
        "        for row in reader:\n",
        "            if len(row) == num_columns:  # Mantém apenas linhas com o número correto de colunas\n",
        "                writer.writerow(row)\n",
        "            else:\n",
        "                # Pode implementar lógica adicional para tratar as linhas problemáticas\n",
        "                print(f\"Linha problemática ignorada: {row}\")\n",
        "\n",
        "# Caminho do arquivo de entrada e de saída\n",
        "input_file = 'membros_FINAL.csv'  # Nome do arquivo CSV original\n",
        "output_file = 'membros_FINAL_cleaned.csv'  # Nome do arquivo CSV limpo\n",
        "\n",
        "# Limpar o arquivo\n",
        "clean_csv(input_file, output_file)\n",
        "\n",
        "# Carregar o arquivo limpo no pandas\n",
        "membros_data_cleaned = pd.read_csv(output_file, encoding='utf-8')\n",
        "\n",
        "# Verificar as primeiras linhas do arquivo limpo\n",
        "print(membros_data_cleaned.head())\n"
      ],
      "metadata": {
        "colab": {
          "base_uri": "https://localhost:8080/"
        },
        "id": "RrMLOcRiJRuJ",
        "outputId": "85934b38-8f01-4895-c390-d5845125d2ff"
      },
      "execution_count": 7,
      "outputs": [
        {
          "output_type": "stream",
          "name": "stdout",
          "text": [
            "  Nome;NASC;IDADE;ESTADO_CIVIL;MODO_ENT;ENDERECO;EBD\n",
            "0  ANDREA ALBUQUERQUE DE MOURA PINTO;13/11/1970NA...\n",
            "1  ARLETE DE MEDEIROS SILVA;11/05/1946;78;VIUVO;A...\n",
            "2  BENY LADEIRA TEIXEIRA;14/12/1943;80;VIUVO;ACLA...\n",
            "3  EDVALDO BELO PEREIRA;07/09/1960;64;CASADO;ACLA...\n",
            "4  ELIANE MARIA DOS REIS PACHECO;11/12/1962;61;CA...\n"
          ]
        }
      ]
    },
    {
      "cell_type": "code",
      "source": [
        "import pandas as pd\n",
        "\n",
        "# Suponha que o caminho seja 'C:/caminho/para/membros_FINAL_cleaned.csv'\n",
        "df_membros = pd.read_csv('/content/membros_FINAL_cleaned.csv')\n"
      ],
      "metadata": {
        "id": "fdyF09eoL01E"
      },
      "execution_count": 8,
      "outputs": []
    },
    {
      "cell_type": "code",
      "source": [
        "import pandas as pd\n",
        "\n",
        "# Carregar o arquivo CSV em um DataFrame\n",
        "df_membros = pd.read_csv('membros_FINAL_cleaned.csv')\n",
        "\n",
        "# Exibir as primeiras linhas do DataFrame\n",
        "print(df_membros.head())\n"
      ],
      "metadata": {
        "colab": {
          "base_uri": "https://localhost:8080/"
        },
        "id": "5B90-tVLMJ5G",
        "outputId": "1808e40b-26ac-4847-d9e0-2350ddc5ed6b"
      },
      "execution_count": 9,
      "outputs": [
        {
          "output_type": "stream",
          "name": "stdout",
          "text": [
            "  Nome;NASC;IDADE;ESTADO_CIVIL;MODO_ENT;ENDERECO;EBD\n",
            "0  ANDREA ALBUQUERQUE DE MOURA PINTO;13/11/1970NA...\n",
            "1  ARLETE DE MEDEIROS SILVA;11/05/1946;78;VIUVO;A...\n",
            "2  BENY LADEIRA TEIXEIRA;14/12/1943;80;VIUVO;ACLA...\n",
            "3  EDVALDO BELO PEREIRA;07/09/1960;64;CASADO;ACLA...\n",
            "4  ELIANE MARIA DOS REIS PACHECO;11/12/1962;61;CA...\n"
          ]
        }
      ]
    },
    {
      "cell_type": "code",
      "source": [
        "# Exibir as primeiras 5 linhas do DataFrame\n",
        "print(df_membros.head())\n"
      ],
      "metadata": {
        "colab": {
          "base_uri": "https://localhost:8080/"
        },
        "id": "G7jbkMbBMgZY",
        "outputId": "f85cff7a-9b34-4d97-9d47-de846cbc0082"
      },
      "execution_count": 10,
      "outputs": [
        {
          "output_type": "stream",
          "name": "stdout",
          "text": [
            "  Nome;NASC;IDADE;ESTADO_CIVIL;MODO_ENT;ENDERECO;EBD\n",
            "0  ANDREA ALBUQUERQUE DE MOURA PINTO;13/11/1970NA...\n",
            "1  ARLETE DE MEDEIROS SILVA;11/05/1946;78;VIUVO;A...\n",
            "2  BENY LADEIRA TEIXEIRA;14/12/1943;80;VIUVO;ACLA...\n",
            "3  EDVALDO BELO PEREIRA;07/09/1960;64;CASADO;ACLA...\n",
            "4  ELIANE MARIA DOS REIS PACHECO;11/12/1962;61;CA...\n"
          ]
        }
      ]
    },
    {
      "cell_type": "code",
      "source": [
        "print(df_membros.columns)\n"
      ],
      "metadata": {
        "colab": {
          "base_uri": "https://localhost:8080/"
        },
        "id": "YTW8boWnWCgR",
        "outputId": "4f21754f-addd-4efb-bfeb-9d76a171ebd2"
      },
      "execution_count": 11,
      "outputs": [
        {
          "output_type": "stream",
          "name": "stdout",
          "text": [
            "Index(['Nome;NASC;IDADE;ESTADO_CIVIL;MODO_ENT;ENDERECO;EBD'], dtype='object')\n"
          ]
        }
      ]
    },
    {
      "cell_type": "code",
      "source": [
        "# Remover espaços em branco dos nomes das colunas\n",
        "df_membros.columns = df_membros.columns.str.strip()\n",
        "\n",
        "# Tentar novamente com o nome corrigido\n",
        "print(df_membros.columns)\n"
      ],
      "metadata": {
        "colab": {
          "base_uri": "https://localhost:8080/"
        },
        "id": "sFl4axYTWNY4",
        "outputId": "dcdf794b-8219-4428-ceb5-55ff4d850e9d"
      },
      "execution_count": 12,
      "outputs": [
        {
          "output_type": "stream",
          "name": "stdout",
          "text": [
            "Index(['Nome;NASC;IDADE;ESTADO_CIVIL;MODO_ENT;ENDERECO;EBD'], dtype='object')\n"
          ]
        }
      ]
    },
    {
      "cell_type": "code",
      "source": [
        "# Remover espaços em branco ou caracteres extras dos nomes das colunas\n",
        "df_membros.columns = df_membros.columns.str.strip()\n",
        "\n",
        "# Listar colunas novamente\n",
        "print(df_membros.columns)\n"
      ],
      "metadata": {
        "colab": {
          "base_uri": "https://localhost:8080/"
        },
        "id": "z14yvCysXHIE",
        "outputId": "1c44b119-290e-478e-aa12-69c7e2b8c108"
      },
      "execution_count": 13,
      "outputs": [
        {
          "output_type": "stream",
          "name": "stdout",
          "text": [
            "Index(['Nome;NASC;IDADE;ESTADO_CIVIL;MODO_ENT;ENDERECO;EBD'], dtype='object')\n"
          ]
        }
      ]
    },
    {
      "cell_type": "code",
      "source": [
        "# Listar todas as colunas do DataFrame\n",
        "print(df_membros.columns)\n"
      ],
      "metadata": {
        "colab": {
          "base_uri": "https://localhost:8080/"
        },
        "id": "-yEc6HT4kI_Q",
        "outputId": "facdb46b-07f4-40eb-a9fb-e97ce1d22a5f"
      },
      "execution_count": 14,
      "outputs": [
        {
          "output_type": "stream",
          "name": "stdout",
          "text": [
            "Index(['Nome;NASC;IDADE;ESTADO_CIVIL;MODO_ENT;ENDERECO;EBD'], dtype='object')\n"
          ]
        }
      ]
    },
    {
      "cell_type": "code",
      "source": [
        "# Remover espaços em branco dos nomes das colunas\n",
        "df_membros.columns = df_membros.columns.str.strip()\n"
      ],
      "metadata": {
        "id": "YQoTqMwWk5Us"
      },
      "execution_count": 15,
      "outputs": []
    },
    {
      "cell_type": "code",
      "source": [
        "# Verificar se a coluna MODO_ENT realmente existe\n",
        "if 'MODO_ENT' in df_membros.columns:\n",
        "    print(\"A coluna MODO_ENT existe.\")\n",
        "    print(df_membros['MODO_ENT'].head())  # Exibir as primeiras linhas da coluna\n",
        "else:\n",
        "    print(\"A coluna MODO_ENT não existe.\")\n"
      ],
      "metadata": {
        "colab": {
          "base_uri": "https://localhost:8080/"
        },
        "id": "qVM2kS69lY55",
        "outputId": "681e6e1c-677a-4e33-9973-9bc4c28e3b8a"
      },
      "execution_count": null,
      "outputs": [
        {
          "output_type": "stream",
          "name": "stdout",
          "text": [
            "A coluna MODO_ENT não existe.\n"
          ]
        }
      ]
    },
    {
      "cell_type": "code",
      "source": [
        "# Listar todas as colunas do DataFrame\n",
        "print(df_membros.columns)\n"
      ],
      "metadata": {
        "colab": {
          "base_uri": "https://localhost:8080/"
        },
        "id": "hIcwbSVdluum",
        "outputId": "131fccbe-4a04-4290-a79f-afc0574f9509"
      },
      "execution_count": 17,
      "outputs": [
        {
          "output_type": "stream",
          "name": "stdout",
          "text": [
            "Index(['Nome;NASC;IDADE;ESTADO_CIVIL;MODO_ENT;ENDERECO;EBD'], dtype='object')\n"
          ]
        }
      ]
    },
    {
      "cell_type": "code",
      "source": [
        "import pandas as pd\n",
        "\n",
        "# Ler o arquivo novamente, especificando o delimitador\n",
        "df_membros = pd.read_csv('membros_FINAL_cleaned.csv', sep=';')\n",
        "\n",
        "# Verificar as colunas novamente\n",
        "print(df_membros.columns)\n"
      ],
      "metadata": {
        "colab": {
          "base_uri": "https://localhost:8080/"
        },
        "id": "_P8SVlN2mZjB",
        "outputId": "1ae09868-42a9-41bc-aa5b-0050d4169c6a"
      },
      "execution_count": 18,
      "outputs": [
        {
          "output_type": "stream",
          "name": "stdout",
          "text": [
            "Index(['Nome', 'NASC', 'IDADE', 'ESTADO_CIVIL', 'MODO_ENT', 'ENDERECO', 'EBD'], dtype='object')\n"
          ]
        }
      ]
    },
    {
      "cell_type": "code",
      "source": [
        "# Exibir as primeiras 5 linhas da coluna MODO_ENT\n",
        "print(df_membros['MODO_ENT'].head())\n"
      ],
      "metadata": {
        "colab": {
          "base_uri": "https://localhost:8080/"
        },
        "id": "NAb3W7F_mkQZ",
        "outputId": "517cac86-1c9d-4b00-8d49-b8d7af4e7ebc"
      },
      "execution_count": 19,
      "outputs": [
        {
          "output_type": "stream",
          "name": "stdout",
          "text": [
            "0    ACLAMACAO\n",
            "1    ACLAMACAO\n",
            "2    ACLAMACAO\n",
            "3    ACLAMACAO\n",
            "4    ACLAMACAO\n",
            "Name: MODO_ENT, dtype: object\n"
          ]
        }
      ]
    },
    {
      "cell_type": "code",
      "source": [
        "# Listar todas as colunas do DataFrame\n",
        "print(df_membros.columns)\n"
      ],
      "metadata": {
        "colab": {
          "base_uri": "https://localhost:8080/"
        },
        "id": "Ayxdm6FDmznf",
        "outputId": "12f85547-272a-42f1-857d-c428e017c570"
      },
      "execution_count": 20,
      "outputs": [
        {
          "output_type": "stream",
          "name": "stdout",
          "text": [
            "Index(['Nome', 'NASC', 'IDADE', 'ESTADO_CIVIL', 'MODO_ENT', 'ENDERECO', 'EBD'], dtype='object')\n"
          ]
        }
      ]
    },
    {
      "cell_type": "code",
      "source": [
        "# Contar a frequência de cada valor na coluna 'MODO_ENT'\n",
        "modo_ent_contagem = df_membros['MODO_ENT'].value_counts()\n"
      ],
      "metadata": {
        "id": "P5SZIrDwnECp"
      },
      "execution_count": null,
      "outputs": []
    },
    {
      "cell_type": "code",
      "source": [
        "import pandas as pd\n",
        "import matplotlib.pyplot as plt\n",
        "\n",
        "# Carregar o arquivo CSV em um DataFrame\n",
        "df_membros = pd.read_csv('membros_FINAL_cleaned.csv')\n",
        "\n",
        "# Verificar as primeiras linhas para garantir que o arquivo foi carregado corretamente\n",
        "print(df_membros.head())\n",
        "\n",
        "# Verificar a distribuição da coluna MODO_ENT\n",
        "modo_ent_contagem = df_membros['MODO_ENT'].value_counts()\n",
        "\n",
        "# Plotar o gráfico de barras\n",
        "plt.figure(figsize=(10, 6))\n",
        "modo_ent_contagem.plot(kind='bar', color='skyblue')\n",
        "\n",
        "# Adicionar título e rótulos\n",
        "plt.title('Distribuição da Coluna MODO_ENT')\n",
        "plt.xlabel('Modo de Entrada')\n",
        "plt.ylabel('Frequência')\n",
        "\n",
        "# Exibir o gráfico\n",
        "plt.xticks(rotation=45)  # Rotacionar os rótulos do eixo x, se necessário\n",
        "plt.tight_layout()  # Ajustar o layout para evitar sobreposição\n",
        "plt.show()\n"
      ],
      "metadata": {
        "colab": {
          "base_uri": "https://localhost:8080/",
          "height": 678
        },
        "id": "p-8_KlIuTVhr",
        "outputId": "b22cfbca-c032-451b-fff2-d4d4cf54c5de"
      },
      "execution_count": 22,
      "outputs": [
        {
          "output_type": "stream",
          "name": "stdout",
          "text": [
            "  Nome;NASC;IDADE;ESTADO_CIVIL;MODO_ENT;ENDERECO;EBD\n",
            "0  ANDREA ALBUQUERQUE DE MOURA PINTO;13/11/1970NA...\n",
            "1  ARLETE DE MEDEIROS SILVA;11/05/1946;78;VIUVO;A...\n",
            "2  BENY LADEIRA TEIXEIRA;14/12/1943;80;VIUVO;ACLA...\n",
            "3  EDVALDO BELO PEREIRA;07/09/1960;64;CASADO;ACLA...\n",
            "4  ELIANE MARIA DOS REIS PACHECO;11/12/1962;61;CA...\n"
          ]
        },
        {
          "output_type": "error",
          "ename": "KeyError",
          "evalue": "'MODO_ENT'",
          "traceback": [
            "\u001b[0;31m---------------------------------------------------------------------------\u001b[0m",
            "\u001b[0;31mKeyError\u001b[0m                                  Traceback (most recent call last)",
            "\u001b[0;32m/usr/local/lib/python3.10/dist-packages/pandas/core/indexes/base.py\u001b[0m in \u001b[0;36mget_loc\u001b[0;34m(self, key)\u001b[0m\n\u001b[1;32m   3804\u001b[0m         \u001b[0;32mtry\u001b[0m\u001b[0;34m:\u001b[0m\u001b[0;34m\u001b[0m\u001b[0;34m\u001b[0m\u001b[0m\n\u001b[0;32m-> 3805\u001b[0;31m             \u001b[0;32mreturn\u001b[0m \u001b[0mself\u001b[0m\u001b[0;34m.\u001b[0m\u001b[0m_engine\u001b[0m\u001b[0;34m.\u001b[0m\u001b[0mget_loc\u001b[0m\u001b[0;34m(\u001b[0m\u001b[0mcasted_key\u001b[0m\u001b[0;34m)\u001b[0m\u001b[0;34m\u001b[0m\u001b[0;34m\u001b[0m\u001b[0m\n\u001b[0m\u001b[1;32m   3806\u001b[0m         \u001b[0;32mexcept\u001b[0m \u001b[0mKeyError\u001b[0m \u001b[0;32mas\u001b[0m \u001b[0merr\u001b[0m\u001b[0;34m:\u001b[0m\u001b[0;34m\u001b[0m\u001b[0;34m\u001b[0m\u001b[0m\n",
            "\u001b[0;32mindex.pyx\u001b[0m in \u001b[0;36mpandas._libs.index.IndexEngine.get_loc\u001b[0;34m()\u001b[0m\n",
            "\u001b[0;32mindex.pyx\u001b[0m in \u001b[0;36mpandas._libs.index.IndexEngine.get_loc\u001b[0;34m()\u001b[0m\n",
            "\u001b[0;32mpandas/_libs/hashtable_class_helper.pxi\u001b[0m in \u001b[0;36mpandas._libs.hashtable.PyObjectHashTable.get_item\u001b[0;34m()\u001b[0m\n",
            "\u001b[0;32mpandas/_libs/hashtable_class_helper.pxi\u001b[0m in \u001b[0;36mpandas._libs.hashtable.PyObjectHashTable.get_item\u001b[0;34m()\u001b[0m\n",
            "\u001b[0;31mKeyError\u001b[0m: 'MODO_ENT'",
            "\nThe above exception was the direct cause of the following exception:\n",
            "\u001b[0;31mKeyError\u001b[0m                                  Traceback (most recent call last)",
            "\u001b[0;32m<ipython-input-22-ffb1d2c8a5f9>\u001b[0m in \u001b[0;36m<cell line: 11>\u001b[0;34m()\u001b[0m\n\u001b[1;32m      9\u001b[0m \u001b[0;34m\u001b[0m\u001b[0m\n\u001b[1;32m     10\u001b[0m \u001b[0;31m# Verificar a distribuição da coluna MODO_ENT\u001b[0m\u001b[0;34m\u001b[0m\u001b[0;34m\u001b[0m\u001b[0m\n\u001b[0;32m---> 11\u001b[0;31m \u001b[0mmodo_ent_contagem\u001b[0m \u001b[0;34m=\u001b[0m \u001b[0mdf_membros\u001b[0m\u001b[0;34m[\u001b[0m\u001b[0;34m'MODO_ENT'\u001b[0m\u001b[0;34m]\u001b[0m\u001b[0;34m.\u001b[0m\u001b[0mvalue_counts\u001b[0m\u001b[0;34m(\u001b[0m\u001b[0;34m)\u001b[0m\u001b[0;34m\u001b[0m\u001b[0;34m\u001b[0m\u001b[0m\n\u001b[0m\u001b[1;32m     12\u001b[0m \u001b[0;34m\u001b[0m\u001b[0m\n\u001b[1;32m     13\u001b[0m \u001b[0;31m# Plotar o gráfico de barras\u001b[0m\u001b[0;34m\u001b[0m\u001b[0;34m\u001b[0m\u001b[0m\n",
            "\u001b[0;32m/usr/local/lib/python3.10/dist-packages/pandas/core/frame.py\u001b[0m in \u001b[0;36m__getitem__\u001b[0;34m(self, key)\u001b[0m\n\u001b[1;32m   4100\u001b[0m             \u001b[0;32mif\u001b[0m \u001b[0mself\u001b[0m\u001b[0;34m.\u001b[0m\u001b[0mcolumns\u001b[0m\u001b[0;34m.\u001b[0m\u001b[0mnlevels\u001b[0m \u001b[0;34m>\u001b[0m \u001b[0;36m1\u001b[0m\u001b[0;34m:\u001b[0m\u001b[0;34m\u001b[0m\u001b[0;34m\u001b[0m\u001b[0m\n\u001b[1;32m   4101\u001b[0m                 \u001b[0;32mreturn\u001b[0m \u001b[0mself\u001b[0m\u001b[0;34m.\u001b[0m\u001b[0m_getitem_multilevel\u001b[0m\u001b[0;34m(\u001b[0m\u001b[0mkey\u001b[0m\u001b[0;34m)\u001b[0m\u001b[0;34m\u001b[0m\u001b[0;34m\u001b[0m\u001b[0m\n\u001b[0;32m-> 4102\u001b[0;31m             \u001b[0mindexer\u001b[0m \u001b[0;34m=\u001b[0m \u001b[0mself\u001b[0m\u001b[0;34m.\u001b[0m\u001b[0mcolumns\u001b[0m\u001b[0;34m.\u001b[0m\u001b[0mget_loc\u001b[0m\u001b[0;34m(\u001b[0m\u001b[0mkey\u001b[0m\u001b[0;34m)\u001b[0m\u001b[0;34m\u001b[0m\u001b[0;34m\u001b[0m\u001b[0m\n\u001b[0m\u001b[1;32m   4103\u001b[0m             \u001b[0;32mif\u001b[0m \u001b[0mis_integer\u001b[0m\u001b[0;34m(\u001b[0m\u001b[0mindexer\u001b[0m\u001b[0;34m)\u001b[0m\u001b[0;34m:\u001b[0m\u001b[0;34m\u001b[0m\u001b[0;34m\u001b[0m\u001b[0m\n\u001b[1;32m   4104\u001b[0m                 \u001b[0mindexer\u001b[0m \u001b[0;34m=\u001b[0m \u001b[0;34m[\u001b[0m\u001b[0mindexer\u001b[0m\u001b[0;34m]\u001b[0m\u001b[0;34m\u001b[0m\u001b[0;34m\u001b[0m\u001b[0m\n",
            "\u001b[0;32m/usr/local/lib/python3.10/dist-packages/pandas/core/indexes/base.py\u001b[0m in \u001b[0;36mget_loc\u001b[0;34m(self, key)\u001b[0m\n\u001b[1;32m   3810\u001b[0m             ):\n\u001b[1;32m   3811\u001b[0m                 \u001b[0;32mraise\u001b[0m \u001b[0mInvalidIndexError\u001b[0m\u001b[0;34m(\u001b[0m\u001b[0mkey\u001b[0m\u001b[0;34m)\u001b[0m\u001b[0;34m\u001b[0m\u001b[0;34m\u001b[0m\u001b[0m\n\u001b[0;32m-> 3812\u001b[0;31m             \u001b[0;32mraise\u001b[0m \u001b[0mKeyError\u001b[0m\u001b[0;34m(\u001b[0m\u001b[0mkey\u001b[0m\u001b[0;34m)\u001b[0m \u001b[0;32mfrom\u001b[0m \u001b[0merr\u001b[0m\u001b[0;34m\u001b[0m\u001b[0;34m\u001b[0m\u001b[0m\n\u001b[0m\u001b[1;32m   3813\u001b[0m         \u001b[0;32mexcept\u001b[0m \u001b[0mTypeError\u001b[0m\u001b[0;34m:\u001b[0m\u001b[0;34m\u001b[0m\u001b[0;34m\u001b[0m\u001b[0m\n\u001b[1;32m   3814\u001b[0m             \u001b[0;31m# If we have a listlike key, _check_indexing_error will raise\u001b[0m\u001b[0;34m\u001b[0m\u001b[0;34m\u001b[0m\u001b[0m\n",
            "\u001b[0;31mKeyError\u001b[0m: 'MODO_ENT'"
          ]
        }
      ]
    },
    {
      "cell_type": "code",
      "source": [
        "print(df_membros.columns)\n"
      ],
      "metadata": {
        "colab": {
          "base_uri": "https://localhost:8080/"
        },
        "id": "ZgTY-nCpTs9M",
        "outputId": "779bc749-51b1-4fa5-bcdf-a8b5b3aae3ce"
      },
      "execution_count": 23,
      "outputs": [
        {
          "output_type": "stream",
          "name": "stdout",
          "text": [
            "Index(['Nome;NASC;IDADE;ESTADO_CIVIL;MODO_ENT;ENDERECO;EBD'], dtype='object')\n"
          ]
        }
      ]
    },
    {
      "cell_type": "code",
      "source": [],
      "metadata": {
        "id": "j2Nvz0yMTs5n"
      },
      "execution_count": null,
      "outputs": []
    },
    {
      "cell_type": "code",
      "source": [
        "df_membros.columns = df_membros.columns.str.strip()\n"
      ],
      "metadata": {
        "id": "cf6eTXS5Txs_"
      },
      "execution_count": 24,
      "outputs": []
    },
    {
      "cell_type": "code",
      "source": [
        "# Listar os nomes das colunas para garantir que 'MODO_ENT' está presente\n",
        "print(df_membros.columns)\n"
      ],
      "metadata": {
        "colab": {
          "base_uri": "https://localhost:8080/"
        },
        "id": "2-l5iVQ2VMnx",
        "outputId": "452ba09b-8fa2-468a-a92a-c573b6a8de7f"
      },
      "execution_count": 27,
      "outputs": [
        {
          "output_type": "stream",
          "name": "stdout",
          "text": [
            "Index(['Nome;NASC;IDADE;ESTADO_CIVIL;MODO_ENT;ENDERECO;EBD'], dtype='object')\n"
          ]
        }
      ]
    },
    {
      "cell_type": "code",
      "source": [
        "# Tentar carregar o arquivo com uma codificação diferente\n",
        "df_membros = pd.read_csv('membros_FINAL_cleaned.csv', encoding='utf-8')\n"
      ],
      "metadata": {
        "id": "MOfTnvgsVRKR"
      },
      "execution_count": 36,
      "outputs": []
    },
    {
      "cell_type": "code",
      "source": [
        "# Tentar carregar o arquivo com uma codificação diferente\n",
        "df_membros = pd.read_csv('membros_FINAL_cleaned.csv', encoding='utf-8')\n"
      ],
      "metadata": {
        "id": "y66P71oPVY9e"
      },
      "execution_count": 37,
      "outputs": []
    },
    {
      "cell_type": "code",
      "source": [
        "# Especificar o separador como ponto e vírgula (;) se necessário\n",
        "df_membros = pd.read_csv('membros_FINAL_cleaned.csv', sep=',')\n"
      ],
      "metadata": {
        "id": "M0kUTQ9gVicP"
      },
      "execution_count": 39,
      "outputs": []
    },
    {
      "cell_type": "code",
      "source": [
        "# Limpar espaços extras nos nomes das colunas\n",
        "df_membros.columns = df_membros.columns.str.strip()\n"
      ],
      "metadata": {
        "id": "49wFuElvVvuc"
      },
      "execution_count": 40,
      "outputs": []
    },
    {
      "cell_type": "code",
      "source": [
        "import pandas as pd\n",
        "import matplotlib.pyplot as plt"
      ],
      "metadata": {
        "id": "BOgpo-YDWwhd"
      },
      "execution_count": 41,
      "outputs": []
    },
    {
      "cell_type": "code",
      "source": [],
      "metadata": {
        "id": "QnGG-V87W0Yx"
      },
      "execution_count": null,
      "outputs": []
    },
    {
      "cell_type": "code",
      "source": [
        "# Carregar o arquivo CSV\n",
        "df_membros = pd.read_csv('membros_FINAL_cleaned.csv', encoding='utf-8')"
      ],
      "metadata": {
        "id": "rnCIvpWnXCzt"
      },
      "execution_count": 42,
      "outputs": []
    },
    {
      "cell_type": "code",
      "source": [],
      "metadata": {
        "id": "pIWk5rRUW6EF"
      },
      "execution_count": null,
      "outputs": []
    },
    {
      "cell_type": "code",
      "source": [
        "# Verificar os nomes das colunas\n",
        "print(df_membros.columns)"
      ],
      "metadata": {
        "colab": {
          "base_uri": "https://localhost:8080/"
        },
        "id": "9ca0x7mcXcff",
        "outputId": "8c95f5f8-aed2-456f-c76c-c5152ecc37e6"
      },
      "execution_count": 43,
      "outputs": [
        {
          "output_type": "stream",
          "name": "stdout",
          "text": [
            "Index(['Nome;NASC;IDADE;ESTADO_CIVIL;MODO_ENT;ENDERECO;EBD'], dtype='object')\n"
          ]
        }
      ]
    },
    {
      "cell_type": "code",
      "source": [
        "# Limpar espaços extras nos nomes das colunas, se necessário\n",
        "df_membros.columns = df_membros.columns.str.strip()"
      ],
      "metadata": {
        "id": "iN_sFeLsXha-"
      },
      "execution_count": 48,
      "outputs": []
    },
    {
      "cell_type": "code",
      "source": [
        "df = pd.read_csv('/content/membros_FINAL_cleaned.csv')\n"
      ],
      "metadata": {
        "id": "AYgJ38gzZHcT"
      },
      "execution_count": 49,
      "outputs": []
    },
    {
      "cell_type": "code",
      "source": [
        "import pandas as pd\n",
        "\n",
        "# Carregando o DataFrame com o delimitador correto\n",
        "df = pd.read_csv('/content/membros_FINAL_cleaned.csv', delimiter=';')\n",
        "\n",
        "# Verificando as colunas\n",
        "print(df.columns)\n"
      ],
      "metadata": {
        "colab": {
          "base_uri": "https://localhost:8080/"
        },
        "id": "z9t1HTyuaPd4",
        "outputId": "ad4a7432-a7c4-44ed-c38b-921aa3078f82"
      },
      "execution_count": 53,
      "outputs": [
        {
          "output_type": "stream",
          "name": "stdout",
          "text": [
            "Index(['Nome', 'NASC', 'IDADE', 'ESTADO_CIVIL', 'MODO_ENT', 'ENDERECO', 'EBD'], dtype='object')\n"
          ]
        }
      ]
    },
    {
      "cell_type": "code",
      "source": [
        "print(df.columns)\n"
      ],
      "metadata": {
        "colab": {
          "base_uri": "https://localhost:8080/"
        },
        "id": "mJB_tLFTaoey",
        "outputId": "5e2b654a-ab85-432a-e343-5aa95b96c6fe"
      },
      "execution_count": 54,
      "outputs": [
        {
          "output_type": "stream",
          "name": "stdout",
          "text": [
            "Index(['Nome', 'NASC', 'IDADE', 'ESTADO_CIVIL', 'MODO_ENT', 'ENDERECO', 'EBD'], dtype='object')\n"
          ]
        }
      ]
    },
    {
      "cell_type": "code",
      "source": [
        "# Remover espaços em branco nos nomes das colunas\n",
        "df.columns = df.columns.str.strip()\n"
      ],
      "metadata": {
        "id": "uyXiqQOfatQi"
      },
      "execution_count": 55,
      "outputs": []
    },
    {
      "cell_type": "code",
      "source": [
        "import matplotlib.pyplot as plt\n",
        "\n",
        "# Verificando se a coluna IDADE agora existe\n",
        "print(df.columns)\n",
        "\n",
        "# Plotando o gráfico de barras\n",
        "plt.figure(figsize=(10, 6))\n",
        "df['IDADE'].value_counts().sort_index().plot(kind='bar', color='skyblue')\n",
        "plt.title('Distribuição das Idades')\n",
        "plt.xlabel('Idade')\n",
        "plt.ylabel('Frequência')\n",
        "plt.xticks(rotation=45)  # Rotaciona os rótulos do eixo x\n",
        "plt.grid(axis='y')\n",
        "\n",
        "plt.show()\n"
      ],
      "metadata": {
        "colab": {
          "base_uri": "https://localhost:8080/",
          "height": 600
        },
        "id": "c02tRDe-a2_Z",
        "outputId": "a4a3216d-a0ef-448e-a7e6-fced326586e2"
      },
      "execution_count": 56,
      "outputs": [
        {
          "output_type": "stream",
          "name": "stdout",
          "text": [
            "Index(['Nome', 'NASC', 'IDADE', 'ESTADO_CIVIL', 'MODO_ENT', 'ENDERECO', 'EBD'], dtype='object')\n"
          ]
        },
        {
          "output_type": "display_data",
          "data": {
            "text/plain": [
              "<Figure size 1000x600 with 1 Axes>"
            ],
            "image/png": "[encoded data removed]"
          },
          "metadata": {}
        }
      ]
    },
    {
      "cell_type": "code",
      "source": [
        "# Contar a frequência das idades\n",
        "idade_counts = df['IDADE'].value_counts().sort_index()\n",
        "\n",
        "# Plotando o gráfico de linhas\n",
        "plt.figure(figsize=(10, 6))\n",
        "plt.plot(idade_counts.index, idade_counts.values, marker='o', color='skyblue')\n",
        "plt.title('Distribuição das Idades')\n",
        "plt.xlabel('Idade')\n",
        "plt.ylabel('Frequência')\n",
        "plt.xticks(rotation=45)  # Rotaciona os rótulos do eixo x\n",
        "plt.grid()\n",
        "\n",
        "plt.show()\n"
      ],
      "metadata": {
        "colab": {
          "base_uri": "https://localhost:8080/",
          "height": 579
        },
        "id": "u7tBbCbVbQhK",
        "outputId": "5e176e44-df90-4417-b7b3-5dba609dbcf7"
      },
      "execution_count": 57,
      "outputs": [
        {
          "output_type": "display_data",
          "data": {
            "text/plain": [
              "<Figure size 1000x600 with 1 Axes>"
            ],
            "image/png": "[encoded data removed]"
          },
          "metadata": {}
        }
      ]
    },
    {
      "cell_type": "code",
      "source": [
        "import pandas as pd\n",
        "import matplotlib.pyplot as plt\n",
        "\n",
        "# Carregando o DataFrame com o delimitador correto\n",
        "df = pd.read_csv('/content/membros_FINAL_cleaned.csv', delimiter=';')\n",
        "\n",
        "# Remover espaços em branco nos nomes das colunas\n",
        "df.columns = df.columns.str.strip()\n",
        "\n",
        "# Plotando o histograma\n",
        "plt.figure(figsize=(10, 6))\n",
        "plt.hist(df['IDADE'], bins=10, color='skyblue', edgecolor='black')\n",
        "plt.title('Histograma da Idade')\n",
        "plt.xlabel('Idade')\n",
        "plt.ylabel('Frequência')\n",
        "plt.grid(axis='y')\n",
        "\n",
        "plt.show()\n"
      ],
      "metadata": {
        "colab": {
          "base_uri": "https://localhost:8080/",
          "height": 564
        },
        "id": "sdsnKZtKbvRA",
        "outputId": "1938df91-ab66-4a60-9268-7b5862f91814"
      },
      "execution_count": 59,
      "outputs": [
        {
          "output_type": "display_data",
          "data": {
            "text/plain": [
              "<Figure size 1000x600 with 1 Axes>"
            ],
            "image/png": "[encoded data removed]"
          },
          "metadata": {}
        }
      ]
    },
    {
      "cell_type": "code",
      "source": [
        "import pandas as pd\n",
        "import matplotlib.pyplot as plt\n",
        "\n",
        "# Carregando o DataFrame com o delimitador correto\n",
        "df = pd.read_csv('/content/membros_FINAL_cleaned.csv', delimiter=';')\n",
        "\n",
        "# Remover espaços em branco nos nomes das colunas\n",
        "df.columns = df.columns.str.strip()\n",
        "\n",
        "# Plotando o histograma\n",
        "plt.figure(figsize=(10, 6))\n",
        "counts, bins, patches = plt.hist(df['IDADE'], bins=10, color='skyblue', edgecolor='black')\n",
        "\n",
        "# Adicionando rótulos acima das barras\n",
        "for count, x in zip(counts, bins):\n",
        "    plt.text(x, count, str(int(count)), ha='center', va='bottom')\n",
        "\n",
        "plt.title('Histograma da Idade')\n",
        "plt.xlabel('Idade')\n",
        "plt.ylabel('Frequência')\n",
        "plt.grid(axis='y')\n",
        "\n",
        "plt.show()\n"
      ],
      "metadata": {
        "colab": {
          "base_uri": "https://localhost:8080/",
          "height": 564
        },
        "id": "P-olXDDKcG3e",
        "outputId": "9d98dd56-a792-4a0a-9787-dd96f02c77f4"
      },
      "execution_count": 61,
      "outputs": [
        {
          "output_type": "display_data",
          "data": {
            "text/plain": [
              "<Figure size 1000x600 with 1 Axes>"
            ],
            "image/png": "[encoded data removed]"
          },
          "metadata": {}
        }
      ]
    }
  ]
}